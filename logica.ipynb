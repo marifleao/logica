{
  "nbformat": 4,
  "nbformat_minor": 0,
  "metadata": {
    "colab": {
      "provenance": [],
      "authorship_tag": "ABX9TyPpUwcrsJ13HEJa8xPY1km/",
      "include_colab_link": true
    },
    "kernelspec": {
      "name": "python3",
      "display_name": "Python 3"
    },
    "language_info": {
      "name": "python"
    }
  },
  "cells": [
    {
      "cell_type": "markdown",
      "metadata": {
        "id": "view-in-github",
        "colab_type": "text"
      },
      "source": [
        "<a href=\"https://colab.research.google.com/github/marifleao/logica/blob/main/logica.ipynb\" target=\"_parent\"><img src=\"https://colab.research.google.com/assets/colab-badge.svg\" alt=\"Open In Colab\"/></a>"
      ]
    },
    {
      "cell_type": "code",
      "execution_count": 3,
      "metadata": {
        "id": "9uazgnHtwz_E"
      },
      "outputs": [],
      "source": [
        "import random"
      ]
    },
    {
      "cell_type": "code",
      "source": [
        "#Declarando um array de 100 posições\n",
        "numeros = [0] * 100\n",
        "i = 0\n",
        "#Populando o array com a sequência de 1 a 100\n",
        "while(i <= 99):\n",
        "  numeros[i] = i + 1\n",
        "  i +=1\n",
        "\n",
        "#Função jogo\n",
        "def jogo():\n",
        "  aleatorio = str(random.choice(numeros))\n",
        "  palpite = input(\"\\nAdivinhe um número de 1 a 100: \")\n",
        "  tentativa = 1\n",
        "  while (palpite != aleatorio):\n",
        "    palpite = input(str(tentativa) + \"º tentativa. Palpite incorreto.\\n\\nTente novamente: \")\n",
        "    if(palpite == aleatorio):\n",
        "      print(\"\\nPalpite correto na \"+ str(tentativa+1) + \"º tentativa. Parabéns!!\\n\")\n",
        "      novo_jogo = input(\"Deseja jogar novamente?\\n 1 - Sim\\n 2 - Não\\n\")\n",
        "      if(novo_jogo == '1'):\n",
        "        inicio(novo_jogo)\n",
        "      else:\n",
        "        print(\"\\nObrigada pela visita. Até a próxima!!\")\n",
        "    else:\n",
        "      tentativa+=1\n",
        "      continue\n",
        "\n",
        "#Função para iniciar o jogo\n",
        "def inicio(novo_jogo):\n",
        "  if(novo_jogo == '1'):\n",
        "    jogo()\n",
        "  else:\n",
        "    print(\"\\n\\nObrigada pela visita. Até a próxima!\")\n",
        "\n",
        "novo_jogo = input(\"Bem vindo!! Deseja iniciar o jogo?\\n 1 - Sim\\n 2 - Não\\n\")\n",
        "inicio(novo_jogo)\n"
      ],
      "metadata": {
        "id": "0-ULqK9OxGST"
      },
      "execution_count": null,
      "outputs": []
    }
  ]
}